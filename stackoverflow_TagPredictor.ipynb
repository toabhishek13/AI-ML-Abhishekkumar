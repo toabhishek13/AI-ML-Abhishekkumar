{
 "cells": [
  {
   "cell_type": "code",
   "execution_count": 1,
   "id": "56298ca2",
   "metadata": {},
   "outputs": [],
   "source": [
    "import numpy as np\n",
    "import pandas as pd\n",
    "from tensorflow.keras.preprocessing.text import Tokenizer\n",
    "from tensorflow.keras.preprocessing.sequence import pad_sequences\n",
    "from tensorflow.keras.models import Sequential\n",
    "from tensorflow.keras.layers import Embedding, LSTM, Dense\n",
    "from sklearn.model_selection import train_test_split\n",
    "from sklearn.preprocessing import MultiLabelBinarizer\n",
    "from bs4 import BeautifulSoup\n"
   ]
  },
  {
   "cell_type": "code",
   "execution_count": 2,
   "id": "eb610fa5",
   "metadata": {},
   "outputs": [],
   "source": [
    "questions = pd.read_csv(r'C:\\Users\\HP\\Documents\\IITK\\DL_Project_Submission\\Project 1\\stacksample\\Questions.csv',encoding='latin-1')\n"
   ]
  },
  {
   "cell_type": "code",
   "execution_count": 5,
   "id": "87d9bb9a",
   "metadata": {},
   "outputs": [
    {
     "data": {
      "text/plain": [
       "Id              1264216\n",
       "OwnerUserId      630909\n",
       "CreationDate    1264207\n",
       "ClosedDate        55949\n",
       "Score               532\n",
       "Title           1263995\n",
       "Body            1264204\n",
       "dtype: int64"
      ]
     },
     "execution_count": 5,
     "metadata": {},
     "output_type": "execute_result"
    }
   ],
   "source": [
    "questions.nunique()"
   ]
  },
  {
   "cell_type": "code",
   "execution_count": 6,
   "id": "ef568e69",
   "metadata": {},
   "outputs": [
    {
     "data": {
      "text/plain": [
       "(1264216, 7)"
      ]
     },
     "execution_count": 6,
     "metadata": {},
     "output_type": "execute_result"
    }
   ],
   "source": [
    "questions.shape"
   ]
  },
  {
   "cell_type": "code",
   "execution_count": 7,
   "id": "e68811cc",
   "metadata": {},
   "outputs": [],
   "source": [
    " tags= pd.read_csv(r'C:\\Users\\HP\\Documents\\IITK\\DL_Project_Submission\\Project 1\\stacksample\\Tags.csv')"
   ]
  },
  {
   "cell_type": "code",
   "execution_count": 9,
   "id": "ab617279",
   "metadata": {},
   "outputs": [
    {
     "data": {
      "text/plain": [
       "Id     1264216\n",
       "Tag      37034\n",
       "dtype: int64"
      ]
     },
     "execution_count": 9,
     "metadata": {},
     "output_type": "execute_result"
    }
   ],
   "source": [
    "tags.nunique()"
   ]
  },
  {
   "cell_type": "code",
   "execution_count": 16,
   "id": "ceddb88c",
   "metadata": {},
   "outputs": [],
   "source": [
    "df_qsn=pd.DataFrame(questions)\n",
    "df_tags=pd.DataFrame(tags)"
   ]
  },
  {
   "cell_type": "code",
   "execution_count": 18,
   "id": "6d4d15b4",
   "metadata": {},
   "outputs": [],
   "source": [
    "merged_df = pd.merge(df_qsn, df_tags, on='Id', how='left')"
   ]
  },
  {
   "cell_type": "code",
   "execution_count": 35,
   "id": "6d625333",
   "metadata": {},
   "outputs": [
    {
     "data": {
      "text/plain": [
       "(151196, 8)"
      ]
     },
     "execution_count": 35,
     "metadata": {},
     "output_type": "execute_result"
    }
   ],
   "source": [
    "merged_df.shape"
   ]
  },
  {
   "cell_type": "code",
   "execution_count": 20,
   "id": "8bdd0d01",
   "metadata": {},
   "outputs": [],
   "source": [
    "merged_df = merged_df.drop_duplicates().reset_index(drop=True)\n",
    "merged_df = merged_df.dropna().reset_index(drop=True)"
   ]
  },
  {
   "cell_type": "code",
   "execution_count": 40,
   "id": "e7204a89",
   "metadata": {},
   "outputs": [
    {
     "data": {
      "text/plain": [
       "(151196, 8)"
      ]
     },
     "execution_count": 40,
     "metadata": {},
     "output_type": "execute_result"
    }
   ],
   "source": [
    "merged_df.shape"
   ]
  },
  {
   "cell_type": "code",
   "execution_count": 37,
   "id": "1daf71eb",
   "metadata": {},
   "outputs": [
    {
     "name": "stdout",
     "output_type": "stream",
     "text": [
      "['java', 'php', 'javascript', 'c#', 'python', 'c++', 'html', 'android', 'jquery', 'mysql']\n"
     ]
    }
   ],
   "source": [
    "filter_values=merged_df['Tag'].value_counts()[:10].index.tolist()\n",
    "print(filter_values)"
   ]
  },
  {
   "cell_type": "code",
   "execution_count": 38,
   "id": "24442030",
   "metadata": {},
   "outputs": [],
   "source": [
    "filtered_df = merged_df[merged_df['Tag'].isin(filter_values)]"
   ]
  },
  {
   "cell_type": "code",
   "execution_count": 39,
   "id": "4bf3cc5e",
   "metadata": {},
   "outputs": [
    {
     "data": {
      "text/plain": [
       "(46139, 8)"
      ]
     },
     "execution_count": 39,
     "metadata": {},
     "output_type": "execute_result"
    }
   ],
   "source": [
    "filtered_df.shape"
   ]
  },
  {
   "cell_type": "code",
   "execution_count": 41,
   "id": "54391560",
   "metadata": {},
   "outputs": [],
   "source": [
    "X = filtered_df['Body']\n",
    "y = filtered_df['Tag']"
   ]
  },
  {
   "cell_type": "code",
   "execution_count": 42,
   "id": "36f2fe2f",
   "metadata": {},
   "outputs": [
    {
     "data": {
      "text/plain": [
       "((46139,), (46139,))"
      ]
     },
     "execution_count": 42,
     "metadata": {},
     "output_type": "execute_result"
    }
   ],
   "source": [
    "X.shape,y.shape"
   ]
  },
  {
   "cell_type": "code",
   "execution_count": 43,
   "id": "5527357e",
   "metadata": {},
   "outputs": [],
   "source": [
    "# Tokenize the questions\n",
    "tokenizer = Tokenizer(num_words=5000, lower=True)\n",
    "tokenizer.fit_on_texts(X)\n",
    "X = tokenizer.texts_to_sequences(X)\n",
    "X = pad_sequences(X, maxlen=100)"
   ]
  },
  {
   "cell_type": "code",
   "execution_count": 44,
   "id": "1a6d16d6",
   "metadata": {},
   "outputs": [],
   "source": [
    "#Split the dataset into training and testing sets\n",
    "y = pd.get_dummies(y).values\n",
    "X_train, X_test, y_train, y_test = train_test_split(X, y, test_size=0.2, random_state=42)"
   ]
  },
  {
   "cell_type": "code",
   "execution_count": 45,
   "id": "28d3d529",
   "metadata": {},
   "outputs": [
    {
     "data": {
      "text/plain": [
       "((36911, 100), (9228, 100), (36911, 10), (9228, 10))"
      ]
     },
     "execution_count": 45,
     "metadata": {},
     "output_type": "execute_result"
    }
   ],
   "source": [
    "X_train.shape, X_test.shape, y_train.shape, y_test.shape"
   ]
  },
  {
   "cell_type": "code",
   "execution_count": 46,
   "id": "2cbf719a",
   "metadata": {},
   "outputs": [],
   "source": [
    "# Build and train the LSTM model\n",
    "model = Sequential()\n",
    "model.add(Embedding(5000, 128, input_length=X.shape[1]))\n",
    "model.add(LSTM(128, dropout=0.2, recurrent_dropout=0.2))\n",
    "model.add(Dense(y.shape[1], activation='softmax'))"
   ]
  },
  {
   "cell_type": "code",
   "execution_count": 47,
   "id": "69083f23",
   "metadata": {},
   "outputs": [],
   "source": [
    "model.compile(loss='categorical_crossentropy', optimizer='adam', metrics=['accuracy'])"
   ]
  },
  {
   "cell_type": "code",
   "execution_count": 48,
   "id": "942be417",
   "metadata": {},
   "outputs": [
    {
     "name": "stdout",
     "output_type": "stream",
     "text": [
      "Epoch 1/10\n",
      "1154/1154 [==============================] - 240s 202ms/step - loss: 1.6927 - accuracy: 0.3872\n",
      "Epoch 2/10\n",
      "1154/1154 [==============================] - 232s 201ms/step - loss: 1.2381 - accuracy: 0.5626\n",
      "Epoch 3/10\n",
      "1154/1154 [==============================] - 232s 201ms/step - loss: 1.0370 - accuracy: 0.6348\n",
      "Epoch 4/10\n",
      "1154/1154 [==============================] - 254s 220ms/step - loss: 0.9391 - accuracy: 0.6664\n",
      "Epoch 5/10\n",
      "1154/1154 [==============================] - 260s 225ms/step - loss: 0.8746 - accuracy: 0.6853\n",
      "Epoch 6/10\n",
      "1154/1154 [==============================] - 258s 224ms/step - loss: 0.8193 - accuracy: 0.6999\n",
      "Epoch 7/10\n",
      "1154/1154 [==============================] - 260s 226ms/step - loss: 0.7697 - accuracy: 0.7149\n",
      "Epoch 8/10\n",
      "1154/1154 [==============================] - 258s 224ms/step - loss: 0.7267 - accuracy: 0.7235\n",
      "Epoch 9/10\n",
      "1154/1154 [==============================] - 244s 212ms/step - loss: 0.6897 - accuracy: 0.7331\n",
      "Epoch 10/10\n",
      "1154/1154 [==============================] - 245s 212ms/step - loss: 0.6518 - accuracy: 0.7419\n"
     ]
    },
    {
     "data": {
      "text/plain": [
       "<keras.src.callbacks.History at 0x1b3fb026d90>"
      ]
     },
     "execution_count": 48,
     "metadata": {},
     "output_type": "execute_result"
    }
   ],
   "source": [
    "model.fit(X_train, y_train, epochs=10, batch_size=32)"
   ]
  },
  {
   "cell_type": "code",
   "execution_count": 49,
   "id": "88bf3955",
   "metadata": {},
   "outputs": [
    {
     "name": "stdout",
     "output_type": "stream",
     "text": [
      "289/289 - 12s - loss: 1.0906 - accuracy: 0.6154 - 12s/epoch - 41ms/step\n",
      "Test accuracy: 0.6154096126556396\n"
     ]
    }
   ],
   "source": [
    "score, acc = model.evaluate(X_test, y_test, verbose=2)\n",
    "print('Test accuracy:', acc)"
   ]
  },
  {
   "cell_type": "code",
   "execution_count": 50,
   "id": "0e0ac021",
   "metadata": {},
   "outputs": [
    {
     "name": "stdout",
     "output_type": "stream",
     "text": [
      "289/289 [==============================] - 9s 31ms/step\n"
     ]
    }
   ],
   "source": [
    "y_pred = (model.predict(X_test) > 0.5).astype(int)"
   ]
  },
  {
   "cell_type": "code",
   "execution_count": 51,
   "id": "943f67d2",
   "metadata": {},
   "outputs": [],
   "source": [
    "from sklearn.metrics import accuracy_score, classification_report"
   ]
  },
  {
   "cell_type": "code",
   "execution_count": 52,
   "id": "f551f6f2",
   "metadata": {},
   "outputs": [
    {
     "name": "stdout",
     "output_type": "stream",
     "text": [
      "              precision    recall  f1-score   support\n",
      "\n",
      "           0       0.69      0.75      0.71       640\n",
      "           1       0.74      0.62      0.68      1013\n",
      "           2       0.75      0.76      0.75       749\n",
      "           3       0.43      0.26      0.32       677\n",
      "           4       0.82      0.66      0.73      1580\n",
      "           5       0.63      0.36      0.46      1270\n",
      "           6       0.43      0.26      0.32       618\n",
      "           7       0.46      0.31      0.37       496\n",
      "           8       0.67      0.59      0.63      1466\n",
      "           9       0.83      0.78      0.80       719\n",
      "\n",
      "   micro avg       0.69      0.55      0.61      9228\n",
      "   macro avg       0.64      0.53      0.58      9228\n",
      "weighted avg       0.67      0.55      0.60      9228\n",
      " samples avg       0.55      0.55      0.55      9228\n",
      "\n"
     ]
    },
    {
     "name": "stderr",
     "output_type": "stream",
     "text": [
      "C:\\Users\\HP\\anaconda3\\Lib\\site-packages\\sklearn\\metrics\\_classification.py:1469: UndefinedMetricWarning: Precision and F-score are ill-defined and being set to 0.0 in samples with no predicted labels. Use `zero_division` parameter to control this behavior.\n",
      "  _warn_prf(average, modifier, msg_start, len(result))\n"
     ]
    }
   ],
   "source": [
    "# Print classification report     \n",
    "print(classification_report(y_test, y_pred))"
   ]
  },
  {
   "cell_type": "code",
   "execution_count": 53,
   "id": "b78868b8",
   "metadata": {},
   "outputs": [
    {
     "data": {
      "text/plain": [
       "['javascript',\n",
       " 'java',\n",
       " 'c#',\n",
       " 'php',\n",
       " 'android',\n",
       " 'jquery',\n",
       " 'python',\n",
       " 'html',\n",
       " 'c++',\n",
       " 'ios']"
      ]
     },
     "execution_count": 53,
     "metadata": {},
     "output_type": "execute_result"
    }
   ],
   "source": [
    "tags['Tag'].value_counts()[:10].index.tolist()"
   ]
  }
 ],
 "metadata": {
  "kernelspec": {
   "display_name": "Python 3 (ipykernel)",
   "language": "python",
   "name": "python3"
  },
  "language_info": {
   "codemirror_mode": {
    "name": "ipython",
    "version": 3
   },
   "file_extension": ".py",
   "mimetype": "text/x-python",
   "name": "python",
   "nbconvert_exporter": "python",
   "pygments_lexer": "ipython3",
   "version": "3.11.4"
  }
 },
 "nbformat": 4,
 "nbformat_minor": 5
}
